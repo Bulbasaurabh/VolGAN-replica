{
 "cells": [
  {
   "cell_type": "markdown",
   "id": "e4f04b2c",
   "metadata": {},
   "source": [
    "# Delta‑Only Hedging (SPX) — Using OptionMetrics OMunderlying.csv for Spot\n",
    "\n",
    "This notebook mirrors the delta–vega structure but performs **delta-only hedging**.\n",
    "- Load option data (`options_dataset.parquet`).\n",
    "- Load OMunderlying.csv spot levels instead of Yahoo prices.\n",
    "- Use SPX close prices as the underlying for mark-to-market.\n",
    "- Daily delta‑hedge using the underlying only (no vega hedge).\n",
    "- Self‑financing accounting, no transaction costs on spot.\n",
    "- 21‑trading‑day non‑overlapping windows from 2021‑01‑01 onward.\n"
   ]
  },
  {
   "cell_type": "code",
   "execution_count": null,
   "id": "7ffb4ab7",
   "metadata": {},
   "outputs": [],
   "source": [
    "import os, warnings\n",
    "import numpy as np\n",
    "import pandas as pd\n",
    "import matplotlib.pyplot as plt\n",
    "from typing import Optional\n",
    "\n",
    "TRADING_DAYS_PER_MONTH = 21\n",
    "OPTIONS_PARQUET = \"../data/options_dataset.parquet\"\n",
    "OM_UNDERLYING_CSV = \"../data/OMunderlying.csv\"\n",
    "\n",
    "pd.set_option('display.max_columns', 100)"
   ]
  },
  {
   "cell_type": "code",
   "execution_count": null,
   "id": "632e95e5",
   "metadata": {},
   "outputs": [],
   "source": [
    "# === 1) Load OptionMetrics option dataset ===\n",
    "df = pd.read_parquet(OPTIONS_PARQUET)\n",
    "df = df[df['ticker'] == 'SPX'].copy()\n",
    "df['date'] = pd.to_datetime(df['date'])\n",
    "df['exdate'] = pd.to_datetime(df['exdate'])\n",
    "\n",
    "# strike scaling (1,505,000 → 1,505)\n",
    "if df['strike_price'].median() > 1e4:\n",
    "    df['strike_price'] = df['strike_price'] / 1000.0\n",
    "\n",
    "df['mid'] = (df['best_bid'] + df['best_offer']) / 2.0\n",
    "df['dte'] = (df['exdate'] - df['date']).dt.days\n",
    "\n",
    "print(\"Option rows (raw):\", len(df))"
   ]
  },
  {
   "cell_type": "code",
   "execution_count": null,
   "id": "c5d1824e",
   "metadata": {},
   "outputs": [],
   "source": [
    "# === 2) Load OptionMetrics OMunderlying.csv as spot ===\n",
    "spot_df = pd.read_csv(OM_UNDERLYING_CSV)\n",
    "spot_df['date'] = pd.to_datetime(spot_df['date'])\n",
    "spot_df = spot_df[spot_df['ticker'] == 'SPX'][['date','close']].rename(columns={'close':'spot'})\n",
    "spot_df = spot_df.drop_duplicates(subset=['date'], keep='last').sort_values('date')\n",
    "\n",
    "print(\"OM spot rows:\", len(spot_df))\n",
    "print(\"Date range:\", spot_df['date'].min().date(), \"→\", spot_df['date'].max().date())"
   ]
  },
  {
   "cell_type": "code",
   "execution_count": null,
   "id": "600bed80",
   "metadata": {
    "lines_to_next_cell": 1
   },
   "outputs": [],
   "source": [
    "# === 3) Merge & filter ≈1‑month maturity ===\n",
    "df = df.merge(spot_df, on='date', how='inner')\n",
    "df['moneyness'] = df['strike_price'] / df['spot']\n",
    "df_1m = df[(df['dte'] >= 15) & (df['dte'] <= 35)].copy()\n",
    "\n",
    "# quality filters\n",
    "df_1m = df_1m.replace([np.inf,-np.inf], np.nan)\n",
    "df_1m = df_1m.dropna(subset=['mid','delta','vega','best_bid','best_offer'])\n",
    "df_1m = df_1m[df_1m['best_offer'] >= df_1m['best_bid']]\n",
    "df_1m['spread'] = (df_1m['best_offer'] - df_1m['best_bid']).clip(lower=0)\n",
    "df_1m['rel_spread'] = df_1m['spread'] / df_1m['mid']\n",
    "\n",
    "liq = (\n",
    "    (df_1m['mid'] > 0.05) &\n",
    "    (df_1m['rel_spread'] <= 0.35) &\n",
    "    df_1m['delta'].between(-1.1,1.1) &\n",
    "    (df_1m['vega'] > 0)\n",
    ")\n",
    "df_1m = df_1m[liq].copy()\n",
    "print(\"1M rows after cleaning:\", len(df_1m))"
   ]
  },
  {
   "cell_type": "code",
   "execution_count": null,
   "id": "f8583f59",
   "metadata": {
    "lines_to_next_cell": 1
   },
   "outputs": [],
   "source": [
    "def choose_strike_for_m0(spot0: float, m0: float, strikes: np.ndarray) -> float:\n",
    "    target = m0 * spot0\n",
    "    return float(strikes[np.abs(strikes-target).argmin()])\n",
    "\n",
    "def pick_one(day_df, strike, cp_flag):\n",
    "    sub = day_df[(day_df['strike_price']==strike)&(day_df['cp_flag']==cp_flag)].copy()\n",
    "    if sub.empty: return None\n",
    "    sub = sub.dropna(subset=['mid','delta','vega'])\n",
    "    sub = sub[sub['best_offer']>=sub['best_bid']]\n",
    "    if sub.empty: return None\n",
    "    sub = sub.sort_values(by=['open_interest','volume'], ascending=[False,False])\n",
    "    return sub.iloc[0]\n",
    "\n",
    "def fetch_next_row(next_df, strike, cp_flag):\n",
    "    nxt = next_df[(next_df['strike_price']==strike)&(next_df['cp_flag']==cp_flag)]\n",
    "    if nxt.empty: return None\n",
    "    nxt = nxt.dropna(subset=['mid'])\n",
    "    nxt = nxt.sort_values(by=['open_interest','volume'], ascending=[False,False])\n",
    "    return nxt.iloc[0]"
   ]
  },
  {
   "cell_type": "code",
   "execution_count": null,
   "id": "5b831cc0",
   "metadata": {
    "lines_to_next_cell": 1
   },
   "outputs": [],
   "source": [
    "# === 4) One‑day step (delta‑only) ===\n",
    "def one_day_step(df_all, d, d_next, K_straddle, phi_under_prev):\n",
    "    day = df_all[df_all['date']==d]; day_next = df_all[df_all['date']==d_next]\n",
    "    if day.empty or day_next.empty: return None\n",
    "    rowC = pick_one(day,K_straddle,'C')\n",
    "    rowP = pick_one(day,K_straddle,'P')\n",
    "    if (rowC is None) or (rowP is None): return None\n",
    "    rowC_n = fetch_next_row(day_next,K_straddle,'C')\n",
    "    rowP_n = fetch_next_row(day_next,K_straddle,'P')\n",
    "    if (rowC_n is None) or (rowP_n is None): return None\n",
    "\n",
    "    spot_t, spot_t1 = rowC['spot'], rowC_n['spot']\n",
    "    psiC, psiP = 1.0, 1.0\n",
    "    V_t = psiC*rowC['mid'] + psiP*rowP['mid']\n",
    "    dV_t = psiC*rowC['delta'] + psiP*rowP['delta']\n",
    "    phi_under = dV_t\n",
    "    pnl_under = phi_under*(spot_t1-spot_t)\n",
    "    pnl_unhedged = psiC*(rowC_n['mid']-rowC['mid']) + psiP*(rowP_n['mid']-rowP['mid'])\n",
    "    return dict(date=d, V_t=V_t, phi_under=phi_under,\n",
    "                pnl_under=pnl_under, pnl_unhedged=pnl_unhedged)"
   ]
  },
  {
   "cell_type": "code",
   "execution_count": null,
   "id": "84446ee6",
   "metadata": {
    "lines_to_next_cell": 1
   },
   "outputs": [],
   "source": [
    "# === 5) Run one 21‑day window ===\n",
    "def get_window_dates(df_all,start_idx):\n",
    "    dates=np.sort(df_all['date'].unique())\n",
    "    if start_idx+TRADING_DAYS_PER_MONTH>=len(dates): return None\n",
    "    return list(dates[start_idx:start_idx+TRADING_DAYS_PER_MONTH+1])\n",
    "\n",
    "def run_single_window(df_all,start_idx,m0):\n",
    "    days=get_window_dates(df_all,start_idx)\n",
    "    if days is None: return None\n",
    "    d0=days[0]; day0=df_all[df_all['date']==d0]\n",
    "    spot0=float(day0['spot'].iloc[0]); strikes=np.sort(day0['strike_price'].unique())\n",
    "    K_straddle=choose_strike_for_m0(spot0,m0,strikes)\n",
    "    phi_prev=0.0; recs=[]; V0=None; Pi_t=None\n",
    "    for t in range(len(days)-1):\n",
    "        step=one_day_step(df_all,days[t],days[t+1],K_straddle,phi_prev)\n",
    "        if step is None: return None\n",
    "        if V0 is None: V0=step['V_t']; Pi_t=V0\n",
    "        Pi_t1=Pi_t+step['pnl_under']\n",
    "        step['Pi_t']=Pi_t; step['Pi_t1']=Pi_t1\n",
    "        recs.append(step); phi_prev=step['phi_under']; Pi_t=Pi_t1\n",
    "    last_day, fin_day = days[-2], days[-1]\n",
    "    dL=df_all[df_all['date']==last_day]; dF=df_all[df_all['date']==fin_day]\n",
    "    rC=pick_one(dL,K_straddle,'C'); rC_f=fetch_next_row(dF,K_straddle,'C')\n",
    "    rP=pick_one(dL,K_straddle,'P'); rP_f=fetch_next_row(dF,K_straddle,'P')\n",
    "    if (rC is None) or (rC_f is None) or (rP is None) or (rP_f is None): return None\n",
    "    V_T=float(rC_f['mid']+rP_f['mid']); Pi_T=float(recs[-1]['Pi_t1'])\n",
    "    return dict(summary=dict(start=days[0],end=days[-1],m0=m0,\n",
    "                             K_straddle=K_straddle,\n",
    "                             V0=recs[0]['V_t'],\n",
    "                             V_T=V_T,Pi_T=Pi_T,\n",
    "                             tracking_error=V_T-Pi_T,\n",
    "                             pnl_unhedged=V_T-recs[0]['V_t'],\n",
    "                             pnl_hedged=Pi_T-recs[0]['V_t']),\n",
    "                timeline=pd.DataFrame(recs))"
   ]
  },
  {
   "cell_type": "code",
   "execution_count": null,
   "id": "b7ddac63",
   "metadata": {
    "lines_to_next_cell": 1
   },
   "outputs": [],
   "source": [
    "# === 6) Multi‑window loop ===\n",
    "def run_experiment(df_all,m0_list,max_windows=52):\n",
    "    dts=np.sort(df_all['date'].unique())\n",
    "    starts=list(range(0,len(dts)-TRADING_DAYS_PER_MONTH-1,TRADING_DAYS_PER_MONTH))\n",
    "    starts=starts[:max_windows]; results=[]\n",
    "    for m in m0_list:\n",
    "        for si in starts:\n",
    "            out=run_single_window(df_all,si,m)\n",
    "            if out is not None: results.append(out['summary'])\n",
    "    return pd.DataFrame(results)"
   ]
  },
  {
   "cell_type": "code",
   "execution_count": null,
   "id": "559b1dd2",
   "metadata": {},
   "outputs": [],
   "source": [
    "# === 7) Backtest setup ===\n",
    "start_bt = pd.Timestamp(\"2021-01-01\")\n",
    "df_bt=df_1m[df_1m['date']>=start_bt].copy().sort_values('date')\n",
    "m0_list=[0.75,0.8,0.9,1.1,1.2,1.25]\n",
    "results_delta=run_experiment(df_bt,m0_list,max_windows=52)\n",
    "results_delta.head(10)\n",
    "res = results_delta.sort_values('end').reset_index(drop=True).copy()"
   ]
  },
  {
   "cell_type": "code",
   "execution_count": null,
   "id": "b941b0b2",
   "metadata": {},
   "outputs": [],
   "source": [
    "plt.figure(figsize=(10,5))\n",
    "plt.plot(res['end'], res['pnl_unhedged'], label='Unhedged PnL', color='steelblue', linewidth=2)\n",
    "plt.plot(res['end'], res['pnl_hedged'], label='Delta-Hedged PnL', color='darkorange', linewidth=2)\n",
    "plt.axhline(0, linestyle='--', color='black', alpha=0.6)\n",
    "plt.title('Per‑Window P&L (Unhedged vs Delta‑Hedged)', fontsize=14, fontweight='bold')\n",
    "plt.xlabel('Window End Date')\n",
    "plt.ylabel('P&L (index points)')\n",
    "plt.legend()\n",
    "plt.grid(alpha=0.3)\n",
    "plt.xticks(rotation=30)\n",
    "plt.tight_layout()\n",
    "plt.show()"
   ]
  },
  {
   "cell_type": "code",
   "execution_count": null,
   "id": "29fd6c76",
   "metadata": {},
   "outputs": [],
   "source": [
    "res['cum_unhedged'] = res['pnl_unhedged'].cumsum()\n",
    "res['cum_hedged']   = res['pnl_hedged'].cumsum()\n",
    "\n",
    "plt.figure(figsize=(10,5))\n",
    "plt.plot(res['end'], res['cum_unhedged'], label='Cumulative Unhedged', color='cornflowerblue', linewidth=2)\n",
    "plt.plot(res['end'], res['cum_hedged'], label='Cumulative Delta-Hedged', color='darkorange', linewidth=2)\n",
    "plt.axhline(0, linestyle='--', color='gray', alpha=0.6)\n",
    "plt.title('Cumulative P&L Over Non‑Overlapping Windows (Delta‑Only)', fontsize=14, fontweight='bold')\n",
    "plt.xlabel('Window End Date')\n",
    "plt.ylabel('Cumulative P&L (index points)')\n",
    "plt.legend()\n",
    "plt.grid(alpha=0.3)\n",
    "plt.xticks(rotation=30)\n",
    "plt.tight_layout()\n",
    "plt.show()"
   ]
  },
  {
   "cell_type": "code",
   "execution_count": null,
   "id": "2b220b2c",
   "metadata": {},
   "outputs": [],
   "source": [
    "plt.figure()\n",
    "plt.plot(res['end'], res['tracking_error'])\n",
    "plt.title('Tracking Error Z_T per Window'); plt.xlabel('Window End Date'); plt.ylabel('Z_T (index pts)')\n",
    "plt.xticks(rotation=30); plt.tight_layout(); plt.show()"
   ]
  },
  {
   "cell_type": "code",
   "execution_count": null,
   "id": "40afeb63",
   "metadata": {
    "lines_to_next_cell": 2
   },
   "outputs": [],
   "source": [
    "# === 8) Boxplot for tracking error ===\n",
    "plt.figure(figsize=(10,5))\n",
    "results_delta.boxplot(column='tracking_error',by='m0')\n",
    "plt.title('Tracking Error by Moneyness (Delta‑Only, OM Spot)')\n",
    "plt.suptitle(''); plt.xlabel('Moneyness m₀'); plt.ylabel('Z_T (index points)')\n",
    "plt.tight_layout(); plt.show()"
   ]
  },
  {
   "cell_type": "code",
   "execution_count": null,
   "id": "e891c9dd",
   "metadata": {},
   "outputs": [],
   "source": [
    "summary_df = res.groupby('m0')['tracking_error'].agg(\n",
    "    mean='mean',\n",
    "    median='median',\n",
    "    std='std',\n",
    "    VaR_5pct=lambda x: x.quantile(0.05),\n",
    "    VaR_1pct=lambda x: x.quantile(0.01)\n",
    ").round(3)\n",
    "\n",
    "print(\"Tracking Error Summary (Delta‑Only Hedging)\")\n",
    "display(summary_df)"
   ]
  },
  {
   "cell_type": "code",
   "execution_count": null,
   "id": "ff149c1a",
   "metadata": {
    "lines_to_next_cell": 3
   },
   "outputs": [],
   "source": [
    "# save to csv\n",
    "results_delta.to_csv('results_delta.csv', index=False)\n",
    "print(\"Delta results saved to results_delta.csv\")"
   ]
  }
 ],
 "metadata": {
  "jupytext": {
   "cell_metadata_filter": "-all",
   "main_language": "python",
   "notebook_metadata_filter": "-all"
  },
  "kernelspec": {
   "display_name": "venv",
   "language": "python",
   "name": "python3"
  },
  "language_info": {
   "name": "python",
   "version": "3.13.7"
  }
 },
 "nbformat": 4,
 "nbformat_minor": 5
}
